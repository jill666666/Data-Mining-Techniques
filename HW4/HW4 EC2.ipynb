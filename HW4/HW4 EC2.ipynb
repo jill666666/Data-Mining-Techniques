{
 "metadata": {
  "language_info": {
   "codemirror_mode": {
    "name": "ipython",
    "version": 3
   },
   "file_extension": ".py",
   "mimetype": "text/x-python",
   "name": "python",
   "nbconvert_exporter": "python",
   "pygments_lexer": "ipython3",
   "version": "3.8.1"
  },
  "orig_nbformat": 2,
  "kernelspec": {
   "name": "python3",
   "display_name": "Python 3.8.1 64-bit",
   "metadata": {
    "interpreter": {
     "hash": "aee8b7b246df8f9039afb4144a1f6fd8d2ca17a180786b69acc140d282b71a49"
    }
   }
  }
 },
 "nbformat": 4,
 "nbformat_minor": 2,
 "cells": [
  {
   "source": [
    "## RNN w/ LSTM Layer"
   ],
   "cell_type": "markdown",
   "metadata": {}
  },
  {
   "cell_type": "code",
   "execution_count": 1,
   "metadata": {},
   "outputs": [],
   "source": [
    "import numpy as np\n",
    "\n",
    "import tensorflow_datasets as tfds\n",
    "import tensorflow as tf"
   ]
  },
  {
   "source": [
    "### Load iMDB Review Dataset"
   ],
   "cell_type": "markdown",
   "metadata": {}
  },
  {
   "cell_type": "code",
   "execution_count": 60,
   "metadata": {
    "tags": []
   },
   "outputs": [],
   "source": [
    "dataset, info = tfds.load('imdb_reviews', with_info=True,\n",
    "                          as_supervised=True)\n",
    "train_dataset, test_dataset = dataset['train'], dataset['test']"
   ]
  },
  {
   "source": [
    "### Inspect training text / label"
   ],
   "cell_type": "markdown",
   "metadata": {}
  },
  {
   "cell_type": "code",
   "execution_count": 12,
   "metadata": {},
   "outputs": [
    {
     "output_type": "stream",
     "name": "stdout",
     "text": [
      "<class 'tensorflow.python.data.ops.dataset_ops.PrefetchDataset'> \n\ntext:  b\"This was an absolutely terrible movie. Don't be lured in by Christopher Walken or Michael Ironside. Both are great actors, but this must simply be their worst role in history. Even their great acting could not redeem this movie's ridiculous storyline. This movie is an early nineties US propaganda piece. The most pathetic scenes were those when the Columbian rebels were making their cases for revolutions. Maria Conchita Alonso appeared phony, and her pseudo-love affair with Walken was nothing but a pathetic emotional plug in a movie that was devoid of any real meaning. I am disappointed that there are movies like this, ruining actor's like Christopher Walken's good name. I could barely sit through it.\"\nlabel:  0\ntext:  b'I have been known to fall asleep during films, but this is usually due to a combination of things including, really tired, being warm and comfortable on the sette and having just eaten a lot. However on this occasion I fell asleep because the film was rubbish. The plot development was constant. Constantly slow and boring. Things seemed to happen, but with no explanation of what was causing them or why. I admit, I may have missed part of the film, but i watched the majority of it and everything just seemed to happen of its own accord without any real concern for anything else. I cant recommend this film at all.'\nlabel:  0\ntext:  b'Mann photographs the Alberta Rocky Mountains in a superb fashion, and Jimmy Stewart and Walter Brennan give enjoyable performances as they always seem to do. <br /><br />But come on Hollywood - a Mountie telling the people of Dawson City, Yukon to elect themselves a marshal (yes a marshal!) and to enforce the law themselves, then gunfighters battling it out on the streets for control of the town? <br /><br />Nothing even remotely resembling that happened on the Canadian side of the border during the Klondike gold rush. Mr. Mann and company appear to have mistaken Dawson City for Deadwood, the Canadian North for the American Wild West.<br /><br />Canadian viewers be prepared for a Reefer Madness type of enjoyable howl with this ludicrous plot, or, to shake your head in disgust.'\nlabel:  0\ntext:  b'This is the kind of film for a snowy Sunday afternoon when the rest of the world can go ahead with its own business as you descend into a big arm-chair and mellow for a couple of hours. Wonderful performances from Cher and Nicolas Cage (as always) gently row the plot along. There are no rapids to cross, no dangerous waters, just a warm and witty paddle through New York life at its best. A family film in every sense and one that deserves the praise it received.'\nlabel:  1\n"
     ]
    }
   ],
   "source": [
    "print(type(train_dataset), '\\n')\n",
    "for example, label in train_dataset.take(4):\n",
    "  print('text: ', example.numpy())\n",
    "  print('label: ', label.numpy())"
   ]
  },
  {
   "source": [
    "### Generate Batches"
   ],
   "cell_type": "markdown",
   "metadata": {}
  },
  {
   "cell_type": "code",
   "execution_count": 61,
   "metadata": {},
   "outputs": [],
   "source": [
    "BUFFER_SIZE = 10000\n",
    "BATCH_SIZE = 64"
   ]
  },
  {
   "cell_type": "code",
   "execution_count": 62,
   "metadata": {},
   "outputs": [],
   "source": [
    "train_dataset = train_dataset.shuffle(BUFFER_SIZE).batch(BATCH_SIZE).prefetch(tf.data.AUTOTUNE)\n",
    "test_dataset = test_dataset.batch(BATCH_SIZE).prefetch(tf.data.AUTOTUNE)"
   ]
  },
  {
   "cell_type": "code",
   "execution_count": 59,
   "metadata": {},
   "outputs": [
    {
     "output_type": "stream",
     "name": "stdout",
     "text": [
      "labels:  [1 1 1 1 1 1 1 1 0 0 1 1 0 0 1 1 1 1 1 1 1 0 1 0 0 0 1 0 1 1 0 0 1 1 1 1 0\n 1 1 1 0 0 0 0 0 1 0 0 0 1 1 0 0 1 1 1 0 1 1 1 1 1 1 0]\n"
     ]
    }
   ],
   "source": [
    "for example, label in train_dataset.take(1):\n",
    "    print('labels: ', label.numpy())"
   ]
  },
  {
   "cell_type": "code",
   "execution_count": 23,
   "metadata": {},
   "outputs": [],
   "source": [
    "VOCAB_SIZE = 1000\n",
    "encoder = tf.keras.layers.experimental.preprocessing.TextVectorization(\n",
    "    max_tokens=VOCAB_SIZE)\n",
    "encoder.adapt(train_dataset.map(lambda text, label: text))"
   ]
  },
  {
   "cell_type": "code",
   "execution_count": 24,
   "metadata": {},
   "outputs": [
    {
     "output_type": "execute_result",
     "data": {
      "text/plain": [
       "array(['', '[UNK]', 'the', 'and', 'a', 'of', 'to', 'is', 'in', 'it', 'i',\n",
       "       'this', 'that', 'br', 'was', 'as', 'for', 'with', 'movie', 'but'],\n",
       "      dtype='<U14')"
      ]
     },
     "metadata": {},
     "execution_count": 24
    }
   ],
   "source": [
    "vocab = np.array(encoder.get_vocabulary())\n",
    "vocab[:20]"
   ]
  },
  {
   "cell_type": "code",
   "execution_count": 25,
   "metadata": {},
   "outputs": [
    {
     "output_type": "execute_result",
     "data": {
      "text/plain": [
       "array([[101, 576, 127, ...,   0,   0,   0],\n",
       "       [176, 316,   2, ...,   0,   0,   0],\n",
       "       [  1,   1,   1, ..., 168,   1, 331]])"
      ]
     },
     "metadata": {},
     "execution_count": 25
    }
   ],
   "source": [
    "encoded_example = encoder(example)[:3].numpy()\n",
    "encoded_example"
   ]
  },
  {
   "source": [
    "### Create and Fit Model"
   ],
   "cell_type": "markdown",
   "metadata": {}
  },
  {
   "cell_type": "code",
   "execution_count": 29,
   "metadata": {},
   "outputs": [],
   "source": [
    "model = tf.keras.Sequential([\n",
    "    encoder,\n",
    "    tf.keras.layers.Embedding(\n",
    "        input_dim=len(encoder.get_vocabulary()),\n",
    "        output_dim=64,\n",
    "        # Use masking to handle the variable sequence lengths\n",
    "        mask_zero=True),\n",
    "    tf.keras.layers.Bidirectional(tf.keras.layers.LSTM(64)),\n",
    "    tf.keras.layers.Dense(64, activation='relu'),\n",
    "    tf.keras.layers.Dense(1)\n",
    "])"
   ]
  },
  {
   "cell_type": "code",
   "execution_count": 32,
   "metadata": {},
   "outputs": [],
   "source": [
    "model.compile(loss=tf.keras.losses.BinaryCrossentropy(from_logits=True),\n",
    "              optimizer=tf.keras.optimizers.Adam(1e-4),\n",
    "              metrics=['accuracy'])"
   ]
  },
  {
   "cell_type": "code",
   "execution_count": 33,
   "metadata": {},
   "outputs": [
    {
     "output_type": "stream",
     "name": "stdout",
     "text": [
      "Epoch 1/10\n",
      "391/391 [==============================] - 269s 673ms/step - loss: 0.6814 - accuracy: 0.5136 - val_loss: 0.4808 - val_accuracy: 0.7594\n",
      "Epoch 2/10\n",
      "391/391 [==============================] - 249s 638ms/step - loss: 0.4163 - accuracy: 0.8060 - val_loss: 0.3624 - val_accuracy: 0.8474\n",
      "Epoch 3/10\n",
      "391/391 [==============================] - 251s 643ms/step - loss: 0.3417 - accuracy: 0.8504 - val_loss: 0.3376 - val_accuracy: 0.8453\n",
      "Epoch 4/10\n",
      "391/391 [==============================] - 250s 639ms/step - loss: 0.3234 - accuracy: 0.8584 - val_loss: 0.3335 - val_accuracy: 0.8443\n",
      "Epoch 5/10\n",
      "391/391 [==============================] - 249s 637ms/step - loss: 0.3199 - accuracy: 0.8646 - val_loss: 0.3287 - val_accuracy: 0.8562\n",
      "Epoch 6/10\n",
      "391/391 [==============================] - 261s 668ms/step - loss: 0.2992 - accuracy: 0.8714 - val_loss: 0.3230 - val_accuracy: 0.8531\n",
      "Epoch 7/10\n",
      "391/391 [==============================] - 249s 637ms/step - loss: 0.3032 - accuracy: 0.8687 - val_loss: 0.3275 - val_accuracy: 0.8531\n",
      "Epoch 8/10\n",
      "391/391 [==============================] - 249s 635ms/step - loss: 0.3005 - accuracy: 0.8704 - val_loss: 0.3232 - val_accuracy: 0.8536\n",
      "Epoch 9/10\n",
      "391/391 [==============================] - 243s 620ms/step - loss: 0.3017 - accuracy: 0.8696 - val_loss: 0.3239 - val_accuracy: 0.8615\n",
      "Epoch 10/10\n",
      "391/391 [==============================] - 240s 613ms/step - loss: 0.3015 - accuracy: 0.8727 - val_loss: 0.3247 - val_accuracy: 0.8578\n"
     ]
    }
   ],
   "source": [
    "history = model.fit(train_dataset, epochs=10,\n",
    "                    validation_data=test_dataset,\n",
    "                    validation_steps=30)"
   ]
  },
  {
   "source": [
    "### Evaluation and Prediction"
   ],
   "cell_type": "markdown",
   "metadata": {}
  },
  {
   "cell_type": "code",
   "execution_count": 34,
   "metadata": {},
   "outputs": [
    {
     "output_type": "stream",
     "name": "stdout",
     "text": [
      "391/391 [==============================] - 52s 134ms/step - loss: 0.3191 - accuracy: 0.8614\n"
     ]
    }
   ],
   "source": [
    "test_loss, test_acc = model.evaluate(test_dataset)"
   ]
  },
  {
   "cell_type": "code",
   "execution_count": 77,
   "metadata": {},
   "outputs": [
    {
     "output_type": "stream",
     "name": "stdout",
     "text": [
      "input text: It was splendid. Definitely will watch it again. So cool.\nprediction: 1.0850709676742554\n\ninput text: Such an underrated film. I hope this movie grabs more attention it deserves.\nprediction: 0.9897462129592896\n"
     ]
    }
   ],
   "source": [
    "sample_text = (\"It was splendid. Definitely will watch it again. So cool.\")\n",
    "prediction = model.predict(np.array([sample_text]))[0][0]\n",
    "print(f'input text: {sample_text}')\n",
    "print(f'prediction: {prediction}\\n')\n",
    "\n",
    "sample_text = (\"Such an underrated film. I hope this movie grabs more attention it deserves.\")\n",
    "prediction = model.predict(np.array([sample_text]))[0][0]\n",
    "print(f'input text: {sample_text}')\n",
    "print(f'prediction: {prediction}')"
   ]
  },
  {
   "cell_type": "code",
   "execution_count": 76,
   "metadata": {},
   "outputs": [
    {
     "output_type": "stream",
     "name": "stdout",
     "text": [
      "input text: Literal trash. I don't recommend this movie at all\nprediction: 0.037662800401449203\n\ninput text: It's a joke somebody even like this. Give yourself a favor and don't waste a time on this.\nprediction: -2.3889565467834473\n"
     ]
    }
   ],
   "source": [
    "sample_text = (\"Literal trash. I don't recommend this movie at all\")\n",
    "prediction = model.predict(np.array([sample_text]))[0][0]\n",
    "print(f'input text: {sample_text}')\n",
    "print(f'prediction: {prediction}\\n')\n",
    "\n",
    "sample_text = (\"It's a joke somebody even like this. Give yourself a favor and don't waste a time on this.\")\n",
    "prediction = model.predict(np.array([sample_text]))[0][0]\n",
    "print(f'input text: {sample_text}')\n",
    "print(f'prediction: {prediction}')"
   ]
  }
 ]
}