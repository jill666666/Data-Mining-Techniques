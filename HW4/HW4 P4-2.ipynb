{
 "metadata": {
  "language_info": {
   "codemirror_mode": {
    "name": "ipython",
    "version": 3
   },
   "file_extension": ".py",
   "mimetype": "text/x-python",
   "name": "python",
   "nbconvert_exporter": "python",
   "pygments_lexer": "ipython3",
   "version": "3.8.1"
  },
  "orig_nbformat": 2,
  "kernelspec": {
   "name": "python3",
   "display_name": "Python 3.8.1 64-bit",
   "metadata": {
    "interpreter": {
     "hash": "aee8b7b246df8f9039afb4144a1f6fd8d2ca17a180786b69acc140d282b71a49"
    }
   }
  }
 },
 "nbformat": 4,
 "nbformat_minor": 2,
 "cells": [
  {
   "cell_type": "code",
   "execution_count": 1,
   "metadata": {},
   "outputs": [],
   "source": [
    "import io\n",
    "import re\n",
    "import string\n",
    "import tensorflow as tf\n",
    "import tqdm\n",
    "\n",
    "from sklearn.datasets import fetch_20newsgroups\n",
    "from nltk.corpus import gutenberg\n",
    "from nltk.tokenize.punkt import PunktSentenceTokenizer, PunktTrainer\n",
    "from tensorflow.keras import Model\n",
    "from tensorflow.keras.layers import Dot, Embedding, Flatten\n",
    "from tensorflow.keras.layers.experimental.preprocessing import TextVectorization"
   ]
  },
  {
   "cell_type": "code",
   "execution_count": 2,
   "metadata": {},
   "outputs": [],
   "source": [
    "SEED = 42\n",
    "AUTOTUNE = tf.data.AUTOTUNE"
   ]
  },
  {
   "cell_type": "code",
   "execution_count": 3,
   "metadata": {},
   "outputs": [],
   "source": [
    "def train_tokenizer():\n",
    "    text = \"\"\n",
    "    for file_id in gutenberg.fileids():\n",
    "        text += gutenberg.raw(file_id)\n",
    "\n",
    "    trainer = PunktTrainer()\n",
    "    trainer.INCLUDE_ALL_COLLOCS = True\n",
    "    trainer.train(' '.join(text))\n",
    "    return PunktSentenceTokenizer(trainer.get_params())\n",
    "    \n",
    "tokenizer = train_tokenizer()"
   ]
  },
  {
   "cell_type": "code",
   "execution_count": 4,
   "metadata": {},
   "outputs": [],
   "source": [
    "tokens, sequences = [], []\n",
    "categories = ['alt.atheism', 'talk.politics.guns', 'sci.space', 'rec.autos']\n",
    "\n",
    "newsgroups = fetch_20newsgroups(categories=categories)\n",
    "\n",
    "for newsgroup in newsgroups.data:\n",
    "    for lines in newsgroup.split('\\n'):\n",
    "        line = re.sub(r\"[^a-zA-Z]+\", ' ',lines).lower().strip()\n",
    "        words = line.split()\n",
    "        if len(words) != 0:\n",
    "            tokens.extend(words)\n",
    "\n",
    "    tokenized_sentences = tokenizer.tokenize(newsgroup)    \n",
    "    for sentence in tokenized_sentences:\n",
    "        sentence = re.sub(r\"[^a-zA-Z]+\", ' ',sentence).lower().strip()\n",
    "        if len(sentence.split()) >= 2:\n",
    "            sequences.append(sentence)"
   ]
  },
  {
   "cell_type": "code",
   "execution_count": 5,
   "metadata": {},
   "outputs": [
    {
     "output_type": "stream",
     "name": "stdout",
     "text": [
      "vocab size: 30243\n"
     ]
    }
   ],
   "source": [
    "vocab, index = {}, 1  # start indexing from 1\n",
    "vocab['<pad>'] = 0  # add a padding token\n",
    "for token in tokens:\n",
    "  if token not in vocab:\n",
    "    vocab[token] = index\n",
    "    index += 1\n",
    "vocab_size = len(vocab)\n",
    "print(f'vocab size: {vocab_size}')"
   ]
  },
  {
   "cell_type": "code",
   "execution_count": 6,
   "metadata": {},
   "outputs": [
    {
     "output_type": "execute_result",
     "data": {
      "text/plain": [
       "['no brent that would be alt sex bondage holly silva goofy anti semite if you were smarter you d have these opinions',\n",
       " 'from reb hprnd rose hp com ralph bean subject re saturn pricing blatherings article i d']"
      ]
     },
     "metadata": {},
     "execution_count": 6
    }
   ],
   "source": [
    "sequences[1:3]"
   ]
  },
  {
   "cell_type": "code",
   "execution_count": 7,
   "metadata": {},
   "outputs": [],
   "source": [
    "# Generates skip-gram pairs with negative sampling for a list of sequences\n",
    "# (int-encoded sentences) based on window size, number of negative samples\n",
    "# and vocabulary size.\n",
    "def generate_training_data(sequences, window_size, num_ns, vocab_size, seed):\n",
    "  # Elements of each training example are appended to these lists.\n",
    "  targets, contexts, labels = [], [], []\n",
    "\n",
    "  # Build the sampling table for vocab_size tokens.\n",
    "  sampling_table = tf.keras.preprocessing.sequence.make_sampling_table(vocab_size)\n",
    "\n",
    "  # Iterate over all sequences (sentences) in dataset.\n",
    "  for sequence in tqdm.tqdm(sequences):\n",
    "\n",
    "    # Generate positive skip-gram pairs for a sequence (sentence).\n",
    "    positive_skip_grams, _ = tf.keras.preprocessing.sequence.skipgrams(\n",
    "          sequence,\n",
    "          vocabulary_size=vocab_size,\n",
    "          sampling_table=sampling_table,\n",
    "          window_size=window_size,\n",
    "          negative_samples=0)\n",
    "\n",
    "    # Iterate over each positive skip-gram pair to produce training examples\n",
    "    # with positive context word and negative samples.\n",
    "    for target_word, context_word in positive_skip_grams:\n",
    "      context_class = tf.expand_dims(\n",
    "          tf.constant([context_word], dtype=\"int64\"), 1)\n",
    "      negative_sampling_candidates, _, _ = tf.random.log_uniform_candidate_sampler(\n",
    "          true_classes=context_class,\n",
    "          num_true=1,\n",
    "          num_sampled=num_ns,\n",
    "          unique=True,\n",
    "          range_max=vocab_size,\n",
    "          seed=SEED,\n",
    "          name=\"negative_sampling\")\n",
    "\n",
    "      # Build context and label vectors (for one target word)\n",
    "      negative_sampling_candidates = tf.expand_dims(\n",
    "          negative_sampling_candidates, 1)\n",
    "\n",
    "      context = tf.concat([context_class, negative_sampling_candidates], 0)\n",
    "      label = tf.constant([1] + [0]*num_ns, dtype=\"int64\")\n",
    "\n",
    "      # Append each element from the training example to global lists.\n",
    "      targets.append(target_word)\n",
    "      contexts.append(context)\n",
    "      labels.append(label)\n",
    "\n",
    "  return targets, contexts, labels"
   ]
  },
  {
   "cell_type": "code",
   "execution_count": 8,
   "metadata": {},
   "outputs": [
    {
     "output_type": "execute_result",
     "data": {
      "text/plain": [
       "<TensorSliceDataset shapes: (), types: tf.string>"
      ]
     },
     "metadata": {},
     "execution_count": 8
    }
   ],
   "source": [
    "text_ds = tf.data.Dataset.from_tensor_slices(sequences)\n",
    "text_ds"
   ]
  },
  {
   "cell_type": "code",
   "execution_count": 9,
   "metadata": {},
   "outputs": [],
   "source": [
    "# We create a custom standardization function to lowercase the text and\n",
    "# remove punctuation.\n",
    "def custom_standardization(input_data):\n",
    "  lowercase = tf.strings.lower(input_data)\n",
    "  return tf.strings.regex_replace(lowercase,\n",
    "                                  '[%s]' % re.escape(string.punctuation), '')\n",
    "\n",
    "\n",
    "# Define the vocabulary size and number of words in a sequence.\n",
    "vocab_size = vocab_size\n",
    "sequence_length = len(sequences)\n",
    "\n",
    "# Use the text vectorization layer to normalize, split, and map strings to\n",
    "# integers. Set output_sequence_length length to pad all samples to same length.\n",
    "vectorize_layer = TextVectorization(\n",
    "    standardize=custom_standardization,\n",
    "    max_tokens=vocab_size,\n",
    "    output_mode='int',\n",
    "    output_sequence_length=sequence_length)"
   ]
  },
  {
   "cell_type": "code",
   "execution_count": 10,
   "metadata": {},
   "outputs": [],
   "source": [
    "vectorize_layer.adapt(text_ds.batch(1024))"
   ]
  },
  {
   "cell_type": "code",
   "execution_count": 11,
   "metadata": {},
   "outputs": [
    {
     "output_type": "stream",
     "name": "stdout",
     "text": [
      "['', '[UNK]', 'the', 'to', 'of', 'a', 'and', 'in', 'i', 'is', 'that', 'it', 'you', 'for', 'edu', 's', 'from', 'on', 'be', 'this']\n"
     ]
    }
   ],
   "source": [
    "# Save the created vocabulary for reference.\n",
    "inverse_vocab = vectorize_layer.get_vocabulary()\n",
    "print(inverse_vocab[:20])"
   ]
  },
  {
   "cell_type": "code",
   "execution_count": 12,
   "metadata": {},
   "outputs": [],
   "source": [
    "# Vectorize the data in text_ds.\n",
    "text_vector_ds = text_ds.batch(1024).prefetch(AUTOTUNE).map(vectorize_layer).unbatch()"
   ]
  },
  {
   "cell_type": "code",
   "execution_count": 13,
   "metadata": {},
   "outputs": [
    {
     "output_type": "stream",
     "name": "stdout",
     "text": [
      "37767\n"
     ]
    }
   ],
   "source": [
    "sequences = list(text_vector_ds.as_numpy_iterator())\n",
    "print(len(sequences))"
   ]
  },
  {
   "cell_type": "code",
   "execution_count": 14,
   "metadata": {
    "tags": []
   },
   "outputs": [
    {
     "output_type": "stream",
     "name": "stderr",
     "text": [
      "100%|██████████| 37767/37767 [03:46<00:00, 166.52it/s]580808 580808 580808\n",
      "\n"
     ]
    }
   ],
   "source": [
    "targets, contexts, labels = generate_training_data(\n",
    "    sequences=sequences,\n",
    "    window_size=2,\n",
    "    num_ns=4,\n",
    "    vocab_size=vocab_size,\n",
    "    seed=SEED)\n",
    "print(len(targets), len(contexts), len(labels))"
   ]
  },
  {
   "cell_type": "code",
   "execution_count": 15,
   "metadata": {},
   "outputs": [
    {
     "output_type": "stream",
     "name": "stdout",
     "text": [
      "<BatchDataset shapes: (((1024,), (1024, 5, 1)), (1024, 5)), types: ((tf.int32, tf.int64), tf.int64)>\n"
     ]
    }
   ],
   "source": [
    "BATCH_SIZE = 1024\n",
    "BUFFER_SIZE = 10000\n",
    "dataset = tf.data.Dataset.from_tensor_slices(((targets, contexts), labels))\n",
    "dataset = dataset.shuffle(BUFFER_SIZE).batch(BATCH_SIZE, drop_remainder=True)\n",
    "print(dataset)"
   ]
  },
  {
   "cell_type": "code",
   "execution_count": 16,
   "metadata": {},
   "outputs": [
    {
     "output_type": "stream",
     "name": "stdout",
     "text": [
      "<PrefetchDataset shapes: (((1024,), (1024, 5, 1)), (1024, 5)), types: ((tf.int32, tf.int64), tf.int64)>\n"
     ]
    }
   ],
   "source": [
    "dataset = dataset.cache().prefetch(buffer_size=AUTOTUNE)\n",
    "print(dataset)"
   ]
  },
  {
   "cell_type": "code",
   "execution_count": 17,
   "metadata": {},
   "outputs": [],
   "source": [
    "class Word2Vec(Model):\n",
    "  def __init__(self, vocab_size, embedding_dim):\n",
    "    super(Word2Vec, self).__init__()\n",
    "    self.target_embedding = Embedding(vocab_size,\n",
    "                                      embedding_dim,\n",
    "                                      input_length=1,\n",
    "                                      name=\"w2v_embedding\")\n",
    "    self.context_embedding = Embedding(vocab_size,\n",
    "                                       embedding_dim,\n",
    "                                       input_length=3+1)\n",
    "    self.dots = Dot(axes=(3, 2))\n",
    "    self.flatten = Flatten()\n",
    "\n",
    "  def call(self, pair):\n",
    "    target, context = pair\n",
    "    we = self.target_embedding(target)\n",
    "    ce = self.context_embedding(context)\n",
    "    dots = self.dots([ce, we])\n",
    "    return self.flatten(dots)"
   ]
  },
  {
   "cell_type": "code",
   "execution_count": 18,
   "metadata": {},
   "outputs": [],
   "source": [
    "def custom_loss(x_logit, y_true):\n",
    "      return tf.nn.sigmoid_cross_entropy_with_logits(logits=x_logit, labels=y_true)"
   ]
  },
  {
   "cell_type": "code",
   "execution_count": 19,
   "metadata": {},
   "outputs": [],
   "source": [
    "embedding_dim = 128\n",
    "word2vec = Word2Vec(vocab_size, embedding_dim)\n",
    "word2vec.compile(optimizer='adam',\n",
    "                 loss=tf.keras.losses.CategoricalCrossentropy(from_logits=True),\n",
    "                 metrics=['accuracy'])"
   ]
  },
  {
   "cell_type": "code",
   "execution_count": 20,
   "metadata": {},
   "outputs": [
    {
     "output_type": "stream",
     "name": "stdout",
     "text": [
      "Epoch 1/20\n",
      "567/567 [==============================] - 33s 57ms/step - loss: 1.5789 - accuracy: 0.3178\n",
      "Epoch 2/20\n",
      "567/567 [==============================] - 32s 57ms/step - loss: 1.2944 - accuracy: 0.5223\n",
      "Epoch 3/20\n",
      "567/567 [==============================] - 32s 57ms/step - loss: 1.0476 - accuracy: 0.6347\n",
      "Epoch 4/20\n",
      "567/567 [==============================] - 32s 56ms/step - loss: 0.8562 - accuracy: 0.7229\n",
      "Epoch 5/20\n",
      "567/567 [==============================] - 32s 56ms/step - loss: 0.7037 - accuracy: 0.7856\n",
      "Epoch 6/20\n",
      "567/567 [==============================] - 32s 57ms/step - loss: 0.5833 - accuracy: 0.8302\n",
      "Epoch 7/20\n",
      "567/567 [==============================] - 33s 58ms/step - loss: 0.4885 - accuracy: 0.8628\n",
      "Epoch 8/20\n",
      "567/567 [==============================] - 32s 57ms/step - loss: 0.4135 - accuracy: 0.8873\n",
      "Epoch 9/20\n",
      "567/567 [==============================] - 32s 56ms/step - loss: 0.3540 - accuracy: 0.9056\n",
      "Epoch 10/20\n",
      "567/567 [==============================] - 32s 57ms/step - loss: 0.3063 - accuracy: 0.9202\n",
      "Epoch 11/20\n",
      "567/567 [==============================] - 32s 57ms/step - loss: 0.2676 - accuracy: 0.9317\n",
      "Epoch 12/20\n",
      "567/567 [==============================] - 32s 56ms/step - loss: 0.2360 - accuracy: 0.9404\n",
      "Epoch 13/20\n",
      "567/567 [==============================] - 32s 56ms/step - loss: 0.2099 - accuracy: 0.9476\n",
      "Epoch 14/20\n",
      "567/567 [==============================] - 32s 57ms/step - loss: 0.1881 - accuracy: 0.9533\n",
      "Epoch 15/20\n",
      "567/567 [==============================] - 32s 56ms/step - loss: 0.1699 - accuracy: 0.9579\n",
      "Epoch 16/20\n",
      "567/567 [==============================] - 32s 56ms/step - loss: 0.1546 - accuracy: 0.9615\n",
      "Epoch 17/20\n",
      "567/567 [==============================] - 32s 57ms/step - loss: 0.1417 - accuracy: 0.9642\n",
      "Epoch 18/20\n",
      "567/567 [==============================] - 32s 57ms/step - loss: 0.1306 - accuracy: 0.9665\n",
      "Epoch 19/20\n",
      "567/567 [==============================] - 32s 57ms/step - loss: 0.1212 - accuracy: 0.9683\n",
      "Epoch 20/20\n",
      "567/567 [==============================] - 32s 57ms/step - loss: 0.1132 - accuracy: 0.9697\n"
     ]
    },
    {
     "output_type": "execute_result",
     "data": {
      "text/plain": [
       "<tensorflow.python.keras.callbacks.History at 0x7fc15906a490>"
      ]
     },
     "metadata": {},
     "execution_count": 20
    }
   ],
   "source": [
    "word2vec.fit(dataset, epochs=20)"
   ]
  },
  {
   "cell_type": "code",
   "execution_count": 21,
   "metadata": {},
   "outputs": [],
   "source": [
    "weights = word2vec.get_layer('w2v_embedding').get_weights()[0]\n",
    "vocab = vectorize_layer.get_vocabulary()"
   ]
  },
  {
   "cell_type": "code",
   "execution_count": 22,
   "metadata": {},
   "outputs": [],
   "source": [
    "out_v = io.open('vectors.tsv', 'w', encoding='utf-8')\n",
    "out_m = io.open('metadata.tsv', 'w', encoding='utf-8')\n",
    "\n",
    "for index, word in enumerate(vocab):\n",
    "  if index == 0:\n",
    "    continue  # skip 0, it's padding.\n",
    "  vec = weights[index]\n",
    "  out_v.write('\\t'.join([str(x) for x in vec]) + \"\\n\")\n",
    "  out_m.write(word + \"\\n\")\n",
    "out_v.close()\n",
    "out_m.close()"
   ]
  },
  {
   "cell_type": "code",
   "execution_count": 36,
   "metadata": {},
   "outputs": [],
   "source": [
    "from collections import OrderedDict\n",
    "from sklearn.metrics.pairwise import cosine_similarity\n",
    "\n",
    "def closest(word, n):\n",
    "    vocab_index = vocab.index(word)\n",
    "    distances = {}\n",
    "    for i, w in enumerate(weights):\n",
    "        distances[i] = cosine_similarity([weights[i]], [weights[vocab_index]])\n",
    "    d_sorted = OrderedDict(sorted(distances.items(), key=lambda x:x[1], reverse=True))\n",
    "    s_words = [vocab[v] for v in list(d_sorted.keys()) if v < len(vocab)]\n",
    "    print('{} -> {}\\n'.format(s_words[0], ' '.join(s_words[1:n+1])))    "
   ]
  },
  {
   "cell_type": "code",
   "execution_count": 37,
   "metadata": {},
   "outputs": [
    {
     "output_type": "stream",
     "name": "stdout",
     "text": [
      "politician -> continuum conducive cleanly setup competitors adrenalizing inconvinient pointer occurance subcontractor ease hooked delight looker hooligan paramout scramble firm aerostar newbie\n",
      "\n",
      "god -> undefined uncorruptable vital essence omniscience harmed regretable sceptical sooner suspicion dispite limiting strickly parentage rebuffed companys overpriced bury cruder fable\n",
      "\n",
      "technology -> aeronautics polytechnical computing alberta meson photography nsw cruz publications geologists catalina planetary readership disciplines electrostatic qic demonstrator interpersonal methyl astronautical\n",
      "\n",
      "music -> amplified triumf erich scots loud nonfiction beer checkout salesdroid ucis diablo classical topics heavies tri remotest troubled dalhousie flares ridgeview\n",
      "\n"
     ]
    }
   ],
   "source": [
    "examples = ['politician', 'god', 'technology', 'music']\n",
    "\n",
    "for keyword in examples:\n",
    "    closest(keyword, 20)"
   ]
  },
  {
   "cell_type": "code",
   "execution_count": null,
   "metadata": {},
   "outputs": [],
   "source": []
  }
 ]
}