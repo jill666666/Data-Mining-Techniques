{
 "metadata": {
  "language_info": {
   "codemirror_mode": {
    "name": "ipython",
    "version": 3
   },
   "file_extension": ".py",
   "mimetype": "text/x-python",
   "name": "python",
   "nbconvert_exporter": "python",
   "pygments_lexer": "ipython3",
   "version": "3.8.1-final"
  },
  "orig_nbformat": 2,
  "kernelspec": {
   "name": "python381jvsc74a57bd0aee8b7b246df8f9039afb4144a1f6fd8d2ca17a180786b69acc140d282b71a49",
   "display_name": "Python 3.8.1 64-bit"
  }
 },
 "nbformat": 4,
 "nbformat_minor": 2,
 "cells": [
  {
   "cell_type": "code",
   "execution_count": 1,
   "metadata": {},
   "outputs": [],
   "source": [
    "from tqdm import tqdm\n",
    "import numpy as np\n",
    "import pandas as pd"
   ]
  },
  {
   "source": [
    "## Read Data"
   ],
   "cell_type": "markdown",
   "metadata": {}
  },
  {
   "cell_type": "code",
   "execution_count": 2,
   "metadata": {},
   "outputs": [
    {
     "output_type": "execute_result",
     "data": {
      "text/plain": [
       "       user_id  item_id  rating  timestamp\n",
       "0          196      242       3  881250949\n",
       "1          186      302       3  891717742\n",
       "2           22      377       1  878887116\n",
       "3          244       51       2  880606923\n",
       "4          166      346       1  886397596\n",
       "...        ...      ...     ...        ...\n",
       "99995      880      476       3  880175444\n",
       "99996      716      204       5  879795543\n",
       "99997      276     1090       1  874795795\n",
       "99998       13      225       2  882399156\n",
       "99999       12      203       3  879959583\n",
       "\n",
       "[100000 rows x 4 columns]"
      ],
      "text/html": "<div>\n<style scoped>\n    .dataframe tbody tr th:only-of-type {\n        vertical-align: middle;\n    }\n\n    .dataframe tbody tr th {\n        vertical-align: top;\n    }\n\n    .dataframe thead th {\n        text-align: right;\n    }\n</style>\n<table border=\"1\" class=\"dataframe\">\n  <thead>\n    <tr style=\"text-align: right;\">\n      <th></th>\n      <th>user_id</th>\n      <th>item_id</th>\n      <th>rating</th>\n      <th>timestamp</th>\n    </tr>\n  </thead>\n  <tbody>\n    <tr>\n      <th>0</th>\n      <td>196</td>\n      <td>242</td>\n      <td>3</td>\n      <td>881250949</td>\n    </tr>\n    <tr>\n      <th>1</th>\n      <td>186</td>\n      <td>302</td>\n      <td>3</td>\n      <td>891717742</td>\n    </tr>\n    <tr>\n      <th>2</th>\n      <td>22</td>\n      <td>377</td>\n      <td>1</td>\n      <td>878887116</td>\n    </tr>\n    <tr>\n      <th>3</th>\n      <td>244</td>\n      <td>51</td>\n      <td>2</td>\n      <td>880606923</td>\n    </tr>\n    <tr>\n      <th>4</th>\n      <td>166</td>\n      <td>346</td>\n      <td>1</td>\n      <td>886397596</td>\n    </tr>\n    <tr>\n      <th>...</th>\n      <td>...</td>\n      <td>...</td>\n      <td>...</td>\n      <td>...</td>\n    </tr>\n    <tr>\n      <th>99995</th>\n      <td>880</td>\n      <td>476</td>\n      <td>3</td>\n      <td>880175444</td>\n    </tr>\n    <tr>\n      <th>99996</th>\n      <td>716</td>\n      <td>204</td>\n      <td>5</td>\n      <td>879795543</td>\n    </tr>\n    <tr>\n      <th>99997</th>\n      <td>276</td>\n      <td>1090</td>\n      <td>1</td>\n      <td>874795795</td>\n    </tr>\n    <tr>\n      <th>99998</th>\n      <td>13</td>\n      <td>225</td>\n      <td>2</td>\n      <td>882399156</td>\n    </tr>\n    <tr>\n      <th>99999</th>\n      <td>12</td>\n      <td>203</td>\n      <td>3</td>\n      <td>879959583</td>\n    </tr>\n  </tbody>\n</table>\n<p>100000 rows × 4 columns</p>\n</div>"
     },
     "metadata": {},
     "execution_count": 2
    }
   ],
   "source": [
    "data =  pd.read_csv('ml-100k/u.data', sep='\\t', names=['user_id', 'item_id', 'rating', 'timestamp'])\n",
    "data"
   ]
  },
  {
   "source": [],
   "cell_type": "markdown",
   "metadata": {}
  },
  {
   "source": [
    "## User-Item Matrix"
   ],
   "cell_type": "markdown",
   "metadata": {}
  },
  {
   "cell_type": "code",
   "execution_count": 3,
   "metadata": {
    "tags": []
   },
   "outputs": [
    {
     "output_type": "stream",
     "name": "stdout",
     "text": [
      "(943, 1682)\n"
     ]
    },
    {
     "output_type": "execute_result",
     "data": {
      "text/plain": [
       "array([[5., 3., 4., ..., 0., 0., 0.],\n",
       "       [4., 0., 0., ..., 0., 0., 0.],\n",
       "       [0., 0., 0., ..., 0., 0., 0.],\n",
       "       ...,\n",
       "       [5., 0., 0., ..., 0., 0., 0.],\n",
       "       [0., 0., 0., ..., 0., 0., 0.],\n",
       "       [0., 5., 0., ..., 0., 0., 0.]])"
      ]
     },
     "metadata": {},
     "execution_count": 3
    }
   ],
   "source": [
    "user_ids, item_ids, ratings = data['user_id'].to_list(), data['item_id'].to_list(), data['rating'].to_list()\n",
    "user_item_matrix = np.zeros((max(user_ids), max(item_ids)))\n",
    "print(user_item_matrix.shape)\n",
    "\n",
    "for user_id, item_id, rating in zip(user_ids, item_ids, ratings):\n",
    "    row, col = user_id - 1, item_id - 1\n",
    "    user_item_matrix[row, col] = rating"
   ]
  },
  {
   "source": [
    "## Normalization"
   ],
   "cell_type": "markdown",
   "metadata": {}
  },
  {
   "cell_type": "code",
   "execution_count": 176,
   "metadata": {},
   "outputs": [],
   "source": [
    "def normalize(user_item_matrix):\n",
    "    mean = np.mean(user_item_matrix, axis=1)\n",
    "    std = np.std(user_item_matrix, axis=1)\n",
    "    normalized_table = user_item_matrix - mean[:, None]\n",
    "    normalized_table /= std[:, None]\n",
    "    return normalized_table, mean, std\n",
    "\n",
    "normalized_table, mean, std = normalize(user_item_matrix)"
   ]
  },
  {
   "source": [
    "## User-User Similarity Matrix"
   ],
   "cell_type": "markdown",
   "metadata": {}
  },
  {
   "cell_type": "code",
   "execution_count": 14,
   "metadata": {},
   "outputs": [
    {
     "output_type": "stream",
     "name": "stderr",
     "text": [
      "943it [17:09,  1.16s/it]\n",
      "943it [17:09,  1.09s/it]\n"
     ]
    }
   ],
   "source": [
    "num_users = user_item_matrix.shape[0]\n",
    "similarity_matrix = np.zeros((num_users, num_users))\n",
    "\n",
    "for user_id, user_ratings in tqdm(enumerate(user_item_matrix), position=0):\n",
    "    for comp_user_id, comp_user_ratings in enumerate(user_item_matrix):\n",
    "        user_nonzero_ratings = [index for index, rating in enumerate(user_ratings) if rating != 0]\n",
    "        comp_user_nonzero_ratings = [index for index, rating in enumerate(comp_user_ratings) if rating != 0]\n",
    "        common_rating_indices = np.intersect1d(user_nonzero_ratings, comp_user_nonzero_ratings)\n",
    "\n",
    "        score = .0\n",
    "        num_common_ratings = len(common_rating_indices)\n",
    "        if num_common_ratings != 0:\n",
    "            for movie_rating_index in common_rating_indices:\n",
    "                score += normalized_table[user_id][movie_rating_index] * normalized_table[comp_user_id][movie_rating_index]\n",
    "            score /= num_common_ratings\n",
    "        \n",
    "        similarity_matrix[user_id, comp_user_id] = score"
   ]
  },
  {
   "source": [
    "## Predictions & Performance(RMSE)"
   ],
   "cell_type": "markdown",
   "metadata": {}
  },
  {
   "cell_type": "code",
   "execution_count": 89,
   "metadata": {},
   "outputs": [],
   "source": [
    "def calculate_rmse(predictions, user_ratings):\n",
    "    return np.sqrt(np.mean((predictions - user_ratings) ** 2))"
   ]
  },
  {
   "cell_type": "code",
   "execution_count": 174,
   "metadata": {},
   "outputs": [],
   "source": [
    "def movie_recommendation(user_id, k):\n",
    "    movie_ids = np.nonzero(user_item_matrix[user_id])[0] # ids of movies rated by the user\n",
    "    user_ratings = user_item_matrix[user_id][movie_ids]  # ratings given by the user. paired with movie_ids\n",
    "\n",
    "    predictions = []\n",
    "    for movie_id in movie_ids:\n",
    "        common_users_ids = np.nonzero(user_item_matrix[:, movie_id])[0]             # ids of users who rated specific movie\n",
    "        common_users_ratings = normalized_table[:, movie_id][common_users_ids]      # ratings of users who rated specific movie\n",
    "        user_similarity_scores = similarity_matrix[user_id, :][common_users_ids]    # similarity scores paired with common_users_ratings\n",
    "\n",
    "        val_sum = 0\n",
    "        for rating, similarity_score in zip(common_users_ratings, user_similarity_scores):\n",
    "            val_sum += rating * similarity_score\n",
    "        prediction = val_sum / sum(user_similarity_scores)\n",
    "        prediction = prediction * std[user_id] + mean[user_id]                      # compute prediction rating\n",
    "        predictions.append(prediction)\n",
    "\n",
    "    sorted_predictions = np.argsort(predictions)[::-1][:k]\n",
    "    recommendations = [movie_ids[movie_id] for movie_id in sorted_predictions]      # get top k recommendations based off the predictions\n",
    "    return recommendations, calculate_rmse(predictions, user_ratings)\n",
    "\n",
    "recommendations, rmse = movie_recommendation(user_id=25, k=5)"
   ]
  },
  {
   "cell_type": "code",
   "execution_count": 216,
   "metadata": {},
   "outputs": [
    {
     "output_type": "stream",
     "name": "stdout",
     "text": [
      "user id: 0\t recommendations: 241,271,268,257,252\t rmse: 2.585239943137318\nuser id: 100\t recommendations: 303,49,287,180,0\t rmse: 0.8557054742806952\nuser id: 200\t recommendations: 312,301,271,241,314\t rmse: 3.0890860468716643\nuser id: 300\t recommendations: 268,299,257,339,332\t rmse: 2.2377882376023956\nuser id: 400\t recommendations: 271,301,314,315,285\t rmse: 1.7022862136834105\nuser id: 500\t recommendations: 312,306,126,99,287\t rmse: 0.8908815972715709\nuser id: 600\t recommendations: 257,49,126,99,8\t rmse: 1.4846059674128074\nuser id: 700\t recommendations: 312,271,314,268,315\t rmse: 0.9737524448656566\nuser id: 800\t recommendations: 312,301,299,332,306\t rmse: 1.4551148911358651\nuser id: 900\t recommendations: 49,274,180,747,14\t rmse: 1.3967622905159345\n"
     ]
    }
   ],
   "source": [
    "for test_user_id in range(0, 1000, 100):\n",
    "    recommendations, rmse = movie_recommendation(test_user_id, 5)\n",
    "    recommendations_string = ','.join(str(v) for v in recommendations)\n",
    "    print(f'user id: {test_user_id}\\t recommendations: {recommendations_string}\\t rmse: {rmse}')"
   ]
  }
 ]
}