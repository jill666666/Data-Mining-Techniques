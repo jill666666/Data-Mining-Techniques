{
 "metadata": {
  "language_info": {
   "codemirror_mode": {
    "name": "ipython",
    "version": 3
   },
   "file_extension": ".py",
   "mimetype": "text/x-python",
   "name": "python",
   "nbconvert_exporter": "python",
   "pygments_lexer": "ipython3",
   "version": "3.8.1-final"
  },
  "orig_nbformat": 2,
  "kernelspec": {
   "name": "python3",
   "display_name": "Python 3",
   "language": "python"
  }
 },
 "nbformat": 4,
 "nbformat_minor": 2,
 "cells": [
  {
   "cell_type": "code",
   "execution_count": 40,
   "metadata": {},
   "outputs": [],
   "source": [
    "with open('kosarak.dat', mode='r', encoding = 'utf-8-sig') as f:\n",
    "    with open('kosarak.arff', mode='w') as ff:\n",
    "        lines = f.readlines()\n",
    "\n",
    "        max_attribute = 0\n",
    "\n",
    "        # find maximum attribute index value\n",
    "        for line in lines:\n",
    "            news = [int(v) for v in line.split()]\n",
    "            for n in news:\n",
    "                if n > max_attribute:\n",
    "                    max_attribute = n\n",
    "\n",
    "        # @relation\n",
    "        ff.write(\"@relation kosarak\\n\")\n",
    "\n",
    "        # @attribute\n",
    "        for index in range(max_attribute):\n",
    "            count += 1\n",
    "            ff.write(\"@attribute news{} {{0, 1}}\\n\".format(index))\n",
    "\n",
    "        # @data\n",
    "        ff.write(\"@data\\n\")\n",
    "\n",
    "        # clicks\n",
    "        for line in lines:\n",
    "            clicks = sorted([int(i) for i in set(line.split())])\n",
    "            output_string = ','.join(['{} 1'.format(c-1) for c in clicks])\n",
    "            output_string = '{' + output_string + '}\\n'\n",
    "            ff.write(output_string)"
   ]
  }
 ]
}